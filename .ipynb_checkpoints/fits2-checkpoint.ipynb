{
 "cells": [
  {
   "cell_type": "markdown",
   "metadata": {},
   "source": [
    "#Fitting Functions, Part 2\n",
    "\n",
    "##Fitting straight lines, part 2: the weighted least squares fit\n",
    "\n",
    "Many physics experiments do produce results that can be expressed as straight lines, but for which the errors on the different points are not the same.  For example, radioactive decay,\n",
    "$$\n",
    "N(t) = N_0 e^{-\\lambda t}\n",
    "$$\n",
    "can be written in the form\n",
    "$$\n",
    "\\ln N(t) = \\ln N_0 - \\lambda t,\n",
    "$$\n",
    "which is a straight line with gradient $-\\lambda$ and intercept $\\ln N_0$.  However, as radioactive decay is a random process, $N(t)$ will follow a Poisson distribution and will therefore have standard deviation $\\sqrt{N}$.  Assuming $N\\gg 1$, we therefore have an error on $\\ln N$ of\n",
    "$$\n",
    "\\sigma_{\\ln N} = \\frac{\\sigma_N}{N} = \\frac{1}{\\sqrt{N}},\n",
    "$$\n",
    "i.e. we cannot treat all the points as having the same uncertainty.\n",
    "\n",
    "The way to tackle this is to **weight** the data points so that those with larger error bars contribute less to the fit.\n",
    "We can see what the appropriate weight ought to be by considering a set of $N$ normally distributed measurements with mean $\\mu$ and standard deviation $\\sigma$.  The uncertainty in the mean is then $\\bar{\\sigma}=\\sigma/\\sqrt{N}$. If we split the dataset up into two subsets, one with $n_1$ measurements and mean $\\mu_1\\pm\\sigma_1$ and the other with $n_2$ measurements and mean $\\mu_2\\pm\\sigma_2$, then $\\sigma_1 = \\sigma/\\sqrt{n_1}$ and $\\sigma_2 = \\sigma/\\sqrt{n_2}$.  Obviously\n",
    "$$\n",
    "N\\mu = n_1\\mu_1 + n_2\\mu_2.\n",
    "$$\n",
    "\n",
    "If we didn't know $N$, $n_1$ and $n_2$, but only had $\\mu_1\\pm\\sigma_1$ and $\\mu_2\\pm\\sigma_2$, we could recover the correct combined result, $\\mu\\pm\\bar{\\sigma}$, by using\n",
    "\n",
    "$$\n",
    "\\begin{aligned}\n",
    "\\mu &= \\frac{n_1/\\sigma_1^2 + n_2/\\sigma_2^2}{1/\\sigma_1^2 + 1/\\sigma_2^2} \n",
    "= \\frac{(n_1\\mu_1 + n_2\\mu_2)/\\sigma^2}{(n_1+n_2)/\\sigma^2}\\\\\n",
    "\\frac{1}{\\bar{\\sigma}^2} &= \\frac{1}{\\sigma_1^2} + \\frac{1}{\\sigma_2^2} = \\frac{n_1+n_2}{\\sigma^2}\n",
    "\\end{aligned}\n",
    "$$\n",
    "(cancel off the factors of $\\sigma^2$ and write $N=n_1+n_2$, and you get back our original result).\n",
    "\n",
    "This indicates that we should weight data points with different error bars by $1/\\sigma_i^2$, where $\\sigma_i$ is the uncertainty of the $i^{\\mathrm{th}}$ data point.  This gives the definition of the **weighted mean**\n",
    "$$\n",
    "\\begin{aligned}\n",
    "\\bar{x} &= \\frac{\\sum_i x_i/\\sigma_i^2}{\\sum_i 1/\\sigma_i^2}\\\\\n",
    "\\frac{1}{\\bar{\\sigma}^2} &= \\sum_i \\frac{1}{\\sigma_i^2}\n",
    "\\end{aligned}\n",
    "$$\n",
    "which is used for combining measurements of the same quantity, $x_i$, that have different error bars, $\\sigma_i$.\n",
    "\n",
    "In fitting the straight line $y=mx+c$, the same logic indicates that we should be trying to minimise\n",
    "$$\n",
    "\\chi^2(m,c) = \\sum_i \\frac{(y_i-mx_i-c)^2}{\\sigma_i^2},\n",
    "$$\n",
    "i.e. the square of the difference between the data point and the fitted value, *in units of the data point's error bar*.\n",
    "This distribution is called $\\chi^2$ (\"chi squared\"), and a fit that minimises it is usually called a $\\chi^2$ fit.\n",
    "\n",
    "Deriving the appropriate expressions for the weighted least-squares fit is not difficult (they are given in [PyMan chapter 7](http://clouds.eos.ubc.ca/~phil/djpine_python/Book/_build/html/chap7/chap7_funcs.html)), but we have now reached the point at which it is sensible to give up on DIY and wheel in the ready-made artillery.  The SciPy package provides a curve fitter called, not entirely surprisingly, [**curve_fit**](http://docs.scipy.org/doc/scipy/reference/generated/scipy.optimize.curve_fit.html), which does a $\\chi^2$ fit to an arbitrary function $f(x)$."
   ]
  },
  {
   "cell_type": "code",
   "execution_count": 44,
   "metadata": {
    "collapsed": false
   },
   "outputs": [
    {
     "name": "stdout",
     "output_type": "stream",
     "text": [
      "True values: lambda = -0.0700 , ln(N0) =  4.605\n",
      "Unweighted fit: lambda = -0.0712 ±  0.0064 , ln(N0) =  4.551 ±  0.224\n",
      "curve_fit: lambda = -0.0646 ±  0.0033 , ln(N0) =  4.509 ±  0.058\n"
     ]
    },
    {
     "data": {
      "text/plain": [
       "<matplotlib.text.Text at 0xa658668>"
      ]
     },
     "execution_count": 44,
     "metadata": {},
     "output_type": "execute_result"
    },
    {
     "data": {
      "image/png": "[encoded data removed]",
      "text/plain": [
       "<matplotlib.figure.Figure at 0xa28b080>"
      ]
     },
     "metadata": {},
     "output_type": "display_data"
    }
   ],
   "source": [
    "%matplotlib inline\n",
    "\n",
    "#Example of using curve_fit to fit a straight line with unequally weighted points\n",
    "import numpy as np\n",
    "import scipy.optimize as spopt\n",
    "import matplotlib.pyplot as plt\n",
    "\n",
    "#Define an ordinary, unweighted least squares fit\n",
    "def linest(x,y):\n",
    "    xmean = x.mean()\n",
    "    m = ((x-xmean)*y).sum()/((x-xmean)*x).sum()\n",
    "    c = y.mean()-m*xmean\n",
    "    yfit = m*x + c\n",
    "    varm = (y*y-2*y*yfit+yfit*yfit).sum()/((x-xmean)*x).sum()/(len(x)-2)\n",
    "    varc = varm*(x*x).mean()\n",
    "    return m,c,varm,varc\n",
    "\n",
    "#Define a straight line for curve_fit\n",
    "def flin(x,m,c):\n",
    "    return m*x+c\n",
    "\n",
    "#generate some simulated data for a radioactive decay \n",
    "\n",
    "tmin = 0.0\n",
    "tmax = 60.0\n",
    "nbins = 20\n",
    "n0 = 100\n",
    "lam = 0.07\n",
    "lnn0 = np.log(n0)\n",
    "print('True values: lambda = -%6.4f'%lam,', ln(N0) = %6.3f'%lnn0)\n",
    "\n",
    "tdata = np.linspace(tmin,tmax,nbins)\n",
    "scatter = np.random.normal(0.0,1.0,nbins) #Gaussian distribution with mean 0 and variance 1\n",
    "ntrue = n0*np.exp(-lam*tdata)\n",
    "ndata = ntrue+np.sqrt(ntrue)*scatter\n",
    "logndata = np.where(ndata>0,np.log(ndata),-1.0)  #use np.where to protect against trying to take ln(0)\n",
    "lognerror = np.where(ndata>0,np.sqrt(ndata)/ndata,1.0) #and to protect against /0 or sqrt(<0)\n",
    "\n",
    "#fit these data using unweighted least squares and curve_fit\n",
    "\n",
    "lamunw,lnnunw,varlam,varn0 = linest(tdata,logndata) #unweighted fit\n",
    "siglam = np.sqrt(varlam)\n",
    "siglnn = np.sqrt(varn0)\n",
    "\n",
    "print('Unweighted fit: lambda = %7.4f'%lamunw,\"\\u00b1\",'%7.4f'%siglam,', ln(N0) = %6.3f'%lnnunw,\"\\u00b1\",'%6.3f'%siglnn)\n",
    "\n",
    "popt,pcov = spopt.curve_fit(flin,tdata,logndata,sigma=lognerror)\n",
    "sigma = np.sqrt(np.diag(pcov))\n",
    "\n",
    "print('curve_fit: lambda = %7.4f'%popt[0],\"\\u00b1\",'%7.4f'%sigma[0],', ln(N0) = %6.3f'%popt[1],\"\\u00b1\",'%6.3f'%sigma[1])\n",
    "\n",
    "plt.errorbar(tdata,logndata,yerr=lognerror,fmt='bo',label='data')\n",
    "plt.plot(tdata,lamunw*tdata+lnnunw,'r--',label='unweighted')\n",
    "plt.plot(tdata,popt[0]*tdata+popt[1],'b',label='curve_fit')\n",
    "plt.legend(loc=0)\n",
    "plt.title('Radioactive decay')\n",
    "plt.xlabel('t (min)')\n",
    "plt.ylabel('ln[activity (Bq)]')"
   ]
  },
  {
   "cell_type": "markdown",
   "metadata": {},
   "source": [
    "The unweighted fit is more affected by the points at large $t$, which have large error bars and therefore have little effect on **curve_fit**.  The greater scatter of these points inflates the uncertainties on the fitted parameters, even though the central values are not severely compromised."
   ]
  },
  {
   "cell_type": "markdown",
   "metadata": {},
   "source": [
    "##Linear and non-linear fits\n",
    "\n",
    "The **curve_fit** routine will fit *any* function $f(x)$, not just $f(x) = mx + c$.  However, there is a big difference in statistics between **linear** and **non-linear** fits.\n",
    "\n",
    "###Linear fits\n",
    "To a statistician, a linear fit is *not* a fit to a straight line.  It refers to a function which is linear **in its parameters**, not in the independent variable $x$.  So, for example,\n",
    "\n",
    "* $f(x) = a_0 + a_1 x + a_2 x^2 + a_3 x^3$ is linear;\n",
    "* $f(x) = a_0 + \\frac{x}{a_1}$ is non-linear (though it could be made linear by defining $a'_1=1/a_1$ and fitting $(a_0,a'_1)$ instead of $(a_0,a_1)$);\n",
    "* $f(x) = a_0(1 + a_1 x)$ is non-linear (though it could be made linear by defining $a_1'=a_0a_1$);\n",
    "* $f(x) = a_0 \\sin(\\omega x)$, where $\\omega$ is a fixed constant, is linear, but\n",
    "* $f(x) = a_0 \\sin(a_1 x)$, where $a_1$ is a fit parameter, is not.\n",
    "\n",
    "This may not seem like much, but in fact it is a critically important distinction.  Linear fits can be solved analytically:\n",
    "taking partial derivatives of $\\chi^2(a_0,a_1,...)$ with respect to each of the parameters $a_0,a_1,...$ will give a tractable set of simultaneous equations which you could in principle solve to get the best fit (if the linear function is complicated, solving the simultaneous equations might be long and tedious, but it is *possible*).  This is because $\\chi^2$ is quadratic in parameter $a_i$, so its partial derivative $\\partial\\chi^2/\\partial a_i$ is linear in $a_i$. \n",
    "\n",
    "As a result of this, the multidimensional surface described by $\\chi^2(a_0,a_1,...)$ is well-behaved, with a single global minimum representing the best fit.  If you use an iterative fitting routine like **curve_fit**, it does not matter what initial guesses you give it for the parameter values (in the above example, we didn't give it any &ndash; this means they all defaulted to 1.0): it will always converge on the correct minimum.\n",
    "\n",
    "###Non-linear fits\n",
    "Non-linear fits involve functions that are *not* linear in the parameters.  The Gaussian for a sample of $N$ events,\n",
    "\n",
    "$$\n",
    "f(x;N,\\mu,\\sigma^2) = \\frac{N}{\\sqrt{2\\pi\\sigma^2}}\\exp\\left(-\\frac{(x-\\mu)^2}{2\\sigma^2}\\right),\n",
    "$$\n",
    "\n",
    "is not linear in its parameters $\\mu$ and $\\sigma^2$, and cannot be made so.\n",
    "\n",
    "Non-linear fits do not in general have neat analytic solutions, and the $\\chi^2$ fit is not guaranteed to succeed.  In particular, it is possible for the $\\chi^2$ surface to have **local minima** in which iterative fits can become trapped.\n",
    "The fit is often sensitive to the choice of starting parameters: it may succeed for some initial guesses and fail for others."
   ]
  },
  {
   "cell_type": "code",
   "execution_count": 4,
   "metadata": {
    "collapsed": false
   },
   "outputs": [
    {
     "name": "stdout",
     "output_type": "stream",
     "text": [
      "Fitted Gaussian: N = 958.95 ±  31.00 , mu = 14.33 ±  0.33 , sigma = 10.009 ± 0.238\n",
      "The correlation matrix is\n",
      "[[ 1.     0.001  0.016]\n",
      " [ 0.001  1.     0.003]\n",
      " [ 0.016  0.003  1.   ]]\n"
     ]
    },
    {
     "data": {
      "text/plain": [
       "<matplotlib.legend.Legend at 0x7ebaa20>"
      ]
     },
     "execution_count": 4,
     "metadata": {},
     "output_type": "execute_result"
    },
    {
     "data": {
      "image/png": "[encoded data removed]",
      "text/plain": [
       "<matplotlib.figure.Figure at 0x7a984e0>"
      ]
     },
     "metadata": {},
     "output_type": "display_data"
    }
   ],
   "source": [
    "%matplotlib inline\n",
    "\n",
    "import numpy as np\n",
    "import scipy.optimize as spopt\n",
    "import matplotlib.pyplot as plt\n",
    "\n",
    "def Ngaussian(x,N,mu,sigma): #Gaussian for N events\n",
    "    return N*np.exp(-0.5*np.power((x-mu)/sigma,2))/(np.sqrt(2*np.pi)*sigma)\n",
    "\n",
    "mu = 15\n",
    "sigma = 10\n",
    "N = 1000\n",
    "\n",
    "data=np.random.normal(mu,sigma,N)\n",
    "\n",
    "counts,bins,patches = plt.hist(data,30,normed=False,histtype='stepfilled',facecolor='salmon',alpha=0.5,label='data')\n",
    "xdata = np.zeros(30)\n",
    "for i in range(len(xdata)):\n",
    "    xdata[i]=0.5*(bins[i]+bins[i+1])  #xdata is the bin centrees\n",
    "errors = np.where(counts>0,np.sqrt(counts),1.0) #assigns error +/- 1 to any empty bins\n",
    "binwidth = bins[1]-bins[0]  #number of events in bin is P(x)dx, so will need to correct fitted N for binwidth\n",
    "\n",
    "popt,pcov = spopt.curve_fit(Ngaussian,xdata,counts,sigma=errors,absolute_sigma=True)\n",
    "sigma = np.sqrt(np.diag(pcov))\n",
    "#correct N for bin width\n",
    "Nfit = popt[0]/binwidth\n",
    "sigNfit = sigma[0]/binwidth\n",
    "print('Fitted Gaussian: N = %6.2f'%Nfit,\"\\u00b1\",'%6.2f'%sigNfit,', mu = %5.2f'%popt[1],\"\\u00b1\",'%5.2f'%sigma[1],', sigma = %5.3f'%popt[2],\"\\u00b1\",'%5.3f'%sigma[2])\n",
    "sigprod=np.outer(sigma,sigma)\n",
    "pcorr=pcov/sigprod\n",
    "print('The correlation matrix is') \n",
    "np.set_printoptions(precision=3)\n",
    "print(pcorr)\n",
    "\n",
    "plt.plot(xdata,Ngaussian(xdata,popt[0],popt[1],popt[2]),'r',linewidth=2,label='fit')\n",
    "plt.title('Fit to Gaussian')\n",
    "plt.legend(loc=0)"
   ]
  },
  {
   "cell_type": "markdown",
   "metadata": {},
   "source": [
    "The fit to a Gaussian is actually quite well-behaved: even though we put in no initial guesses, and the true values are far from 1.0, it converges to sensible results."
   ]
  },
  {
   "cell_type": "code",
   "execution_count": 3,
   "metadata": {
    "collapsed": false
   },
   "outputs": [
    {
     "name": "stdout",
     "output_type": "stream",
     "text": [
      "Fitted Gaussian 1: N = 614.80 ±  42.93 , mu = -0.36 ±  0.48 , sigma = 8.900 ± 0.503\n",
      "Fitted Gaussian 1: N = 341.30 ±  39.19 , mu =  6.20 ±  1.81 , sigma = 28.850 ± 1.726\n",
      "The covariance matrix is\n",
      "[[  9.722e+04   1.904e+01   9.147e+01  -6.382e+04   1.526e+02   3.135e+02]\n",
      " [  1.904e+01   2.323e-01   3.014e-02  -1.884e+01  -1.381e-01   1.233e-01]\n",
      " [  9.147e+01   3.014e-02   2.531e-01  -9.027e+01   1.926e-01   4.058e-01]\n",
      " [ -6.382e+04  -1.884e+01  -9.027e+01   8.100e+04  -1.468e+02  -3.032e+02]\n",
      " [  1.526e+02  -1.381e-01   1.926e-01  -1.468e+02   3.281e+00   8.155e-01]\n",
      " [  3.135e+02   1.233e-01   4.058e-01  -3.032e+02   8.155e-01   2.977e+00]]\n",
      "The correlation matrix is\n",
      "[[ 1.     0.127  0.583 -0.719  0.27   0.583]\n",
      " [ 0.127  1.     0.124 -0.137 -0.158  0.148]\n",
      " [ 0.583  0.124  1.    -0.63   0.211  0.467]\n",
      " [-0.719 -0.137 -0.63   1.    -0.285 -0.617]\n",
      " [ 0.27  -0.158  0.211 -0.285  1.     0.261]\n",
      " [ 0.583  0.148  0.467 -0.617  0.261  1.   ]]\n"
     ]
    },
    {
     "data": {
      "text/plain": [
       "<matplotlib.legend.Legend at 0x7b64cc0>"
      ]
     },
     "execution_count": 3,
     "metadata": {},
     "output_type": "execute_result"
    },
    {
     "data": {
      "image/png": "[encoded data removed]",
      "text/plain": [
       "<matplotlib.figure.Figure at 0x42f5048>"
      ]
     },
     "metadata": {},
     "output_type": "display_data"
    }
   ],
   "source": [
    "%matplotlib inline\n",
    "\n",
    "import matplotlib.pyplot as plt\n",
    "import numpy as np\n",
    "import scipy.optimize as spopt\n",
    "\n",
    "def dblegaus(x,N1,mu1,sig1,N2,mu2,sig2):\n",
    "    return N1*np.exp(-0.5*np.power((x-mu1)/sig1,2))/(np.sqrt(2*np.pi)*sig1)+N2*np.exp(-0.5*np.power((x-mu2)/sig2,2))/(np.sqrt(2*np.pi)*sig2)\n",
    "\n",
    "N1 = 700\n",
    "mu1 = 0.0\n",
    "sig1 = 10.0 \n",
    "\n",
    "N2 = 300\n",
    "mu2 = 5.0\n",
    "sig2 = 40.0\n",
    "\n",
    "data1=np.random.normal(mu1,sig1,N1)\n",
    "data2=np.random.normal(mu2,sig2,N2)\n",
    "data=np.concatenate((data1,data2))\n",
    "\n",
    "counts,bins,patches = plt.hist(data,30,normed=False,histtype='stepfilled',facecolor='salmon',alpha=0.5,label='data')\n",
    "xdata = np.zeros(30)\n",
    "for i in range(len(xdata)):\n",
    "    xdata[i]=0.5*(bins[i]+bins[i+1])  #xdata is the bin centrees\n",
    "errors = np.where(counts>0,np.sqrt(counts),1.0) #assigns error +/- 1 to any empty bins\n",
    "binwidth = bins[1]-bins[0]  #number of events in bin is P(x)dx, so will need to correct fitted N for binwidth\n",
    "\n",
    "popt,pcov = spopt.curve_fit(dblegaus,xdata,counts,sigma=errors,absolute_sigma=True,p0=[1000,1,1,100,1,10])\n",
    "sigma = np.sqrt(np.diag(pcov))\n",
    "#correct N for bin width\n",
    "N1fit = popt[0]/binwidth\n",
    "sigN1fit = sigma[0]/binwidth\n",
    "N2fit = popt[3]/binwidth\n",
    "sigN2fit = sigma[3]/binwidth\n",
    "print('Fitted Gaussian 1: N = %6.2f'%N1fit,\"\\u00b1\",'%6.2f'%sigN1fit,', mu = %5.2f'%popt[1],\"\\u00b1\",'%5.2f'%sigma[1],', sigma = %5.3f'%popt[2],\"\\u00b1\",'%5.3f'%sigma[2])\n",
    "print('Fitted Gaussian 1: N = %6.2f'%N2fit,\"\\u00b1\",'%6.2f'%sigN2fit,', mu = %5.2f'%popt[4],\"\\u00b1\",'%5.2f'%sigma[4],', sigma = %5.3f'%popt[5],\"\\u00b1\",'%5.3f'%sigma[5])\n",
    "sigprod=np.outer(sigma,sigma)\n",
    "pcorr=pcov/sigprod\n",
    "print('The correlation matrix is')\n",
    "print(pcorr)\n",
    "plt.plot(xdata,dblegaus(xdata,popt[0],popt[1],popt[2],popt[3],popt[4],popt[5]),'r',linewidth=2,label='fit')\n",
    "plt.title('Fit to double Gaussian') \n",
    "plt.legend(loc=0)"
   ]
  },
  {
   "cell_type": "markdown",
   "metadata": {},
   "source": [
    "On the other hand, the fit to the sum of two Gaussians will sometimes die horribly if you don't give it plausible starting parameters.  It does better if the two Gaussians are well separated.  Notice that the fitted parameters are very correlated (the off-diagonal elements of the correlation matrix are not small).  [Note: because of the way I defined the function, occasionally the fit converges to negative values for both $N$ and $\\sigma$: these cancel.  If only one is negative, it really does believe that the best fit subtracts events instead of adding them.]\n",
    "\n",
    "(I did try using a Cauchy distribution to demonstrate this, but it's so pathological that it fell over essentially every time.  Try it for yourself!  NumPy provides a Cauchy-distributed random number generator.)"
   ]
  },
  {
   "cell_type": "markdown",
   "metadata": {},
   "source": [
    "##Summary\n",
    "\n",
    "The SciPy routine **curve_fit** can be used to fit arbitrary functions, both linear and non-linear in the parameters.  In the case of non-linear fits,\n",
    "\n",
    "* you may have to set the initial guesses p0 fairly carefully to get a successful fit, and\n",
    "* it is possible for the fit to converge on a local minimum instead of the true best fit.\n",
    "\n",
    "In all cases, it is very useful to check your data visually before embarking on a fitting procedure.  Check for effects such as saturation (an initially linear relationship flattens out), offsets (a relationship that should go through the origin doesn't) and outliers (one or two points are clearly a *very* long way from the rest of the pack).  If you have copied your data down by hand at any point, the most likely reason for outliers is a typo: 1.9 got recorded as 9.1, for example.  Although it is often OK to discard outliers, always clearly record that you have done so, and do not be too zealous: remember that one point in 20 *should* be more than two error bars off the best fit!"
   ]
  }
 ],
 "metadata": {
  "kernelspec": {
   "display_name": "Python 3",
   "language": "python",
   "name": "python3"
  },
  "language_info": {
   "codemirror_mode": {
    "name": "ipython",
    "version": 3
   },
   "file_extension": ".py",
   "mimetype": "text/x-python",
   "name": "python",
   "nbconvert_exporter": "python",
   "pygments_lexer": "ipython3",
   "version": "3.3.5"
  }
 },
 "nbformat": 4,
 "nbformat_minor": 0
}
