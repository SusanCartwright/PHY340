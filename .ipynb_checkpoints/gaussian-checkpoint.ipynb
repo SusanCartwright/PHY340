{
 "cells": [
  {
   "cell_type": "markdown",
   "metadata": {},
   "source": [
    "Statistical Errors and the Gaussian Distribution\n",
    "==========================\n",
    "\n",
    "Statistical uncertainties quantify random errors in measurement: they describe the spread in results that would occur if the measurement were repeated a very large number of times.  We usually assume that statistical errors cause the measured results to be distributed about the true value in a **normal** or **Gaussian** distribution:\n",
    "\n",
    "$$\n",
    "G(x) = \\frac{1}{\\sqrt{2\\pi\\sigma^2}}\\exp\\left(-\\frac{(x-\\mu)^2}{2\\sigma^2}\\right)\n",
    "$$\n",
    "\n",
    "The parameters of the Gaussian distribution are its **mean** *&mu;* and its **width** *&sigma;*.  The standard Gaussian function is normalised such that its integral is 1, so to describe a dataset with *N* measurements we need to multiply by *N*.\n",
    "\n",
    "The code below plots two Gaussians with the same mean *&mu;*, one with width &sigma; (blue) and the other with width &sigma;/2 (red), together with the points with error bars that would correspond to these distributions: &mu; &plusmn; &sigma; blue) and &mu; &plusmn; &sigma;/2 (red). \n"
   ]
  },
  {
   "cell_type": "code",
   "execution_count": 23,
   "metadata": {
    "collapsed": false
   },
   "outputs": [
    {
     "data": {
      "text/plain": [
       "<Container object of 3 artists>"
      ]
     },
     "execution_count": 23,
     "metadata": {},
     "output_type": "execute_result"
    },
    {
     "data": {
      "image/png": "[encoded data removed]",
      "text/plain": [
       "<matplotlib.figure.Figure at 0x7a87f98>"
      ]
     },
     "metadata": {},
     "output_type": "display_data"
    }
   ],
   "source": [
    "%matplotlib inline\n",
    "\n",
    "import matplotlib.pyplot as p\n",
    "import numpy as np\n",
    "\n",
    "def gaussian(x,mu,sigma):\n",
    "    return np.exp(-0.5*np.power((x-mu)/sigma,2))/(2.50663*sigma)\n",
    "\n",
    "mu = 0.0\n",
    "sigma = 1.0\n",
    "xmin = -3.0\n",
    "xmax = +3.0\n",
    "nbins=100\n",
    "x=np.linspace(xmin,xmax,nbins)\n",
    "\n",
    "plt.plot(x,gaussian(x,mu,sigma),'b',x,gaussian(x,mu,sigma/2),'r--')\n",
    "plt.errorbar(mu,0.05,xerr=sigma,yerr=None,fmt='o')\n",
    "plt.errorbar(mu,0.1,xerr=sigma/2,yerr=None,fmt='o',mfc='red',ecolor='red')"
   ]
  },
  {
   "cell_type": "markdown",
   "metadata": {},
   "source": [
    "Notice that the probability that a particular measurement will lie **outside** the range &mu; &plusmn; &sigma; is quite large (roughly 1 in 3).  The **standard deviation** *&sigma;* quantifies the **probable error** in a measurement, not the largest possible error. "
   ]
  },
  {
   "cell_type": "markdown",
   "metadata": {},
   "source": [
    "The error on a measurement and the error on the mean\n",
    "---------------------------------------------------------\n",
    "\n",
    "The standard deviation &sigma; corresponds to the uncertainty on a single measurement _x_<sub>i</sub>.  It is common to repeat measurements to improve accuracy.  The error on the mean of *N* measurements is given by &sigma;/_&radic;N_: if you repeat the measurement 25 times, your error bar will decrease by a factor of 5.\n",
    "\n",
    "The code below plots the distributions for 1 measurement (blue) and _N_ measurements (red), assuming the same mean &mu; and standard deviation &sigma;.  The points show the corresponding error bar for one measurement (blue) and the mean of _N_ measurements (red)."
   ]
  },
  {
   "cell_type": "code",
   "execution_count": 27,
   "metadata": {
    "collapsed": false
   },
   "outputs": [
    {
     "data": {
      "text/plain": [
       "<Container object of 3 artists>"
      ]
     },
     "execution_count": 27,
     "metadata": {},
     "output_type": "execute_result"
    },
    {
     "data": {
      "image/png": "[encoded data removed]",
      "text/plain": [
       "<matplotlib.figure.Figure at 0x8e1ba20>"
      ]
     },
     "metadata": {},
     "output_type": "display_data"
    }
   ],
   "source": [
    "%matplotlib inline\n",
    "\n",
    "import matplotlib.pyplot as p\n",
    "import numpy as np\n",
    "\n",
    "def gaussian(x,mu,sigma):\n",
    "    return np.exp(-0.5*np.power((x-mu)/sigma,2))/(2.50663*sigma)\n",
    "\n",
    "mu = 0.0\n",
    "sigma = 1.0\n",
    "xmin = -3.0\n",
    "xmax = +3.0\n",
    "nbins=100\n",
    "x=np.linspace(xmin,xmax,nbins)\n",
    "\n",
    "N=5\n",
    "\n",
    "plt.plot(x,gaussian(x,mu,sigma),'b',x,N*gaussian(x,mu,sigma),'r--')\n",
    "plt.errorbar(mu,0.1,xerr=sigma,yerr=None,fmt='o')\n",
    "plt.errorbar(mu,0.5,xerr=sigma/np.power(N,0.5),yerr=None,fmt='o',mfc='red',ecolor='red')"
   ]
  },
  {
   "cell_type": "markdown",
   "metadata": {},
   "source": [
    "Calculating the mean and standard deviation of a set of data\n",
    "------------------------------------------------------------------\n",
    "\n",
    "Of course, we do not normally know the true mean and standard deviation of our data &ndash; we have to calculate these from the data.  For repeated measurements using the same set-up (and therefore presumably drawn from the same Gaussian), it can be shown that the best estimates of &mu; and &sigma; are given by\n",
    "$$\n",
    "\\bar{x} = \\frac{1}{N}\\sum\\limits_{i=1}^{N} x_i\n",
    "$$\n",
    "and\n",
    "$$\n",
    "\\sigma = \\sqrt{\\left(\\frac{1}{N-1}\\sum\\limits_{i=1}^{N}(x-\\bar{x})^2\\right)}.\n",
    "$$\n",
    "The reason for the factor of (_N_ &minus; 1) instead of _N_ in the definition of &sigma; is that we have already used up one **degree of freedom** in calculating _x&#773;_.  We will come across the concept of degrees of freedom again when looking at fitting functions to data.  It's also easy to justify conceptually: &sigma; describes the *spread* of the measured points about the true value, and it is clearly impossible to determine what the spread is if you do not know the true value already and you only have one data point!\n",
    "\n",
    "In the code below, 'data' is an array containing _N_ numbers which were generated using a Gaussian random number generator with a nominal mean of &mu; and standard deviation of &sigma;.  The plot shows the data (blue squares), the mean (red point with error bars) and the limits _x&#773;_ &plusmn; _&sigma;_ (red dashed lines)."
   ]
  },
  {
   "cell_type": "code",
   "execution_count": 98,
   "metadata": {
    "collapsed": false
   },
   "outputs": [
    {
     "name": "stdout",
     "output_type": "stream",
     "text": [
      "xmean = 0.609  +/- 0.278\n",
      "sigma = 1.755\n"
     ]
    },
    {
     "data": {
      "text/plain": [
       "<Container object of 3 artists>"
      ]
     },
     "execution_count": 98,
     "metadata": {},
     "output_type": "execute_result"
    },
    {
     "data": {
      "image/png": "[encoded data removed]",
      "text/plain": [
       "<matplotlib.figure.Figure at 0xa77ce48>"
      ]
     },
     "metadata": {},
     "output_type": "display_data"
    }
   ],
   "source": [
    "%matplotlib inline\n",
    "\n",
    "import matplotlib.pyplot as p\n",
    "import numpy as np\n",
    "\n",
    "N = 40\n",
    "\n",
    "mu = 0.30\n",
    "truesigma = 2.00\n",
    "data = np.random.normal(mu,truesigma,N)\n",
    "\n",
    "sumx=sum(data)\n",
    "ndata=len(data)\n",
    "xmean=sumx/ndata\n",
    "\n",
    "sumxsq=0\n",
    "for x in data:\n",
    "    sumxsq=sumxsq+np.power(x-xmean,2)\n",
    "    \n",
    "sigma=np.sqrt(sumxsq/(ndata-1))\n",
    "sigmabar=sigma/np.sqrt(ndata)\n",
    "\n",
    "print('xmean = %5.3f'%xmean,' +/- %5.3f'%sigmabar)\n",
    "print('sigma = %5.3f'%sigma)\n",
    "\n",
    "plt.plot(data,'bs',[0,ndata-1],[xmean-sigma,xmean-sigma],'r--',[0,ndata-1],[xmean+sigma,xmean+sigma],'r--')\n",
    "plt.errorbar(ndata/2,xmean,yerr=sigmabar,fmt='o',mfc='red',ecolor='red',elinewidth=2,ms=8)"
   ]
  },
  {
   "cell_type": "markdown",
   "metadata": {},
   "source": [
    "If you change _N_, you should see that the error on the mean decreases, to the point where the error bars on the point will be invisible for _N_ &gt; 100 or so.  You should find that the calculated mean is within its error bar of the true mean at least 2/3 of the time, but the calculated sigma may differ significantly from the true &sigma; if _N_ is small. "
   ]
  },
  {
   "cell_type": "markdown",
   "metadata": {},
   "source": [
    "Agreement between data and expectation\n",
    "------------------------------------------\n",
    "\n",
    "Suppose you wish to compare your measured value, &_x_ &plusmn; _&sigma;_, with a theoretical prediction, _X_.\n",
    "As we saw above, there is about a 1 in 3 chance that |_x_ &minus; _X_| &gt; _&sigma;_.  In order to calculate the probability that your value _x_ is consistent with the predicted value _X_, you need to integrate over the Gaussian probability distribution.  Integrating the Gaussian is not trivial, but fortunately most programming languages provide built-in functions to calculate it.  A commonly supplied example is the **error function** erf(_x_), defined as\n",
    "$$\n",
    "\\mbox{erf}(x)=\\frac{1}{\\sqrt{\\pi}}\\int_{-x}^{x}e^{-t^2}\\,\\mathrm{d}t.\n",
    "$$\n",
    "This is the probability that a measurement drawn from a Guassian with mean 0 and &sigma;<sup>2</sup> = &frac12; will lie between &minus;_x_ and +_x_.  (Don't ask me why they picked &sigma; = 1/&radic;2 instead of &sigma; = 1, but unfortunately that's the standard definition.)  This can be scaled to any value of &sigma; by using erf(_x_/(&sigma;&radic;2)) instead of erf(_x_).\n",
    "\n",
    "The code below prints the probabilities that a measured value lies within 1, 2, 3 and 4&sigma; of the mean, and also that it lies with _x_ of the mean if the width of the underlying Gaussian is &sigma;.  Note that we are more often interested in the probability that it lies *outside* this range, i.e. that we could, by chance, obtain a measured value that is *at least x* away from the mean, **even though the prediction is in fact correct**.  This value is just \n",
    "$$\n",
    "1 - \\mbox{erf}\\left(\\frac{x}{\\sqrt{2}\\sigma}\\right)\n",
    "$$\n",
    "as given in the last line.  Notice that the Python maths library provides a separate function, erfc(_x_), to calculate this, in order to avoid loss of precision when _x_ &#8811; 1/&radic;2."
   ]
  },
  {
   "cell_type": "code",
   "execution_count": 94,
   "metadata": {
    "collapsed": false
   },
   "outputs": [
    {
     "name": "stdout",
     "output_type": "stream",
     "text": [
      "The probability that x lies within 1 sigma of xmean is 68.269 percent.\n",
      "The probability that x lies within 2 sigma of xmean is 95.450 percent.\n",
      "The probability that x lies within 3 sigma of xmean is 99.730 percent.\n",
      "The probability that x lies within 4 sigma of xmean is 99.99367 percent.\n",
      "The probability that x lies within 0.350 of xmean is 98.03693 percent when sigma =  0.150\n",
      "and the probability that x lies outside this range is 1.96307 percent.\n"
     ]
    }
   ],
   "source": [
    "import numpy as np\n",
    "import math as mt\n",
    "\n",
    "sigma = 0.15\n",
    "x = 0.35\n",
    "\n",
    "onesig = 100.*mt.erf(1.0/(np.sqrt(2)))\n",
    "twosig = 100.*mt.erf(2.0/(np.sqrt(2)))\n",
    "threesig = 100.*mt.erf(3.0/(np.sqrt(2)))\n",
    "foursig = 100.*mt.erf(4.0/(np.sqrt(2)))\n",
    "xsig = 100.*mt.erf(x/(np.sqrt(2)*sigma))\n",
    "xsigc = 100.*(mt.erfc(x/(np.sqrt(2)*sigma)))\n",
    "\n",
    "print('The probability that x lies within 1 sigma of xmean is %6.3f'%onesig,'percent.')\n",
    "print('The probability that x lies within 2 sigma of xmean is %6.3f'%twosig,'percent.')\n",
    "print('The probability that x lies within 3 sigma of xmean is %6.3f'%threesig,'percent.')\n",
    "print('The probability that x lies within 4 sigma of xmean is %8.5f'%foursig,'percent.')\n",
    "print('The probability that x lies within %5.3f'%x,'of xmean is %7.5f'%xsig,'percent when sigma = %6.3f'%sigma)\n",
    "print('and the probability that x lies outside this range is %7.5f'%xsigc,'percent.')"
   ]
  }
 ],
 "metadata": {
  "kernelspec": {
   "display_name": "Python 3",
   "language": "python",
   "name": "python3"
  },
  "language_info": {
   "codemirror_mode": {
    "name": "ipython",
    "version": 3
   },
   "file_extension": ".py",
   "mimetype": "text/x-python",
   "name": "python",
   "nbconvert_exporter": "python",
   "pygments_lexer": "ipython3",
   "version": "3.3.5"
  }
 },
 "nbformat": 4,
 "nbformat_minor": 0
}
