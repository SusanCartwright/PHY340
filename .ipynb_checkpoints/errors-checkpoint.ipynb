{
 "cells": [
  {
   "cell_type": "markdown",
   "metadata": {},
   "source": [
    "Combining and Propagating Errors\n",
    "=========\n",
    "\n",
    "Error in *f*(*x*) due to error in *x*\n",
    "----------------------------------------\n",
    "\n",
    "Suppose we measure $x$, but the physical quantity of interest is some function $f(x)$.  How do we extract the error on $f$, $\\Delta f$, from the error on $x$, $\\Delta x$?  \n",
    "\n",
    "The simplest thing to do is to calculate $f(x-\\Delta x)$ and $f(x+\\Delta x)$.  **This is perfectly legitimate**, and will almost always work (the only case in which it will return misleading results is when the function $f$ turns round inside the range $x\\pm\\Delta x$ &ndash; for example, the upper limit of $\\sin(89^\\circ \\pm 3^\\circ)$ is 1, not $\\sin(92^\\circ)$).  This method is particularly useful when the dependence on $x$ is complicated, when $\\Delta x$ is not small, or when the error is asymmetric (in the above example, $\\sin(89^\\circ\\pm 3^\\circ)= 0.99985_{-0.00228}^{+0.00015}$).\n",
    "\n",
    "However, in the case in which $\\Delta x$ is small, we have\n",
    "$$\n",
    "\\frac{\\Delta f}{\\Delta x}\\simeq \\left|\\frac{\\mathrm{d}f}{\\mathrm{d}x}\\right|\n",
    "$$\n",
    "(the modulus sign is because both $\\Delta f$ and $\\Delta x$ are normally defined to be positive).  This is the formula that leads to such standard results as\n",
    "\n",
    "$$\n",
    "\\begin{aligned}\n",
    "\\Delta(x^2) &= 2x\\Delta x\\\\\n",
    "\\Delta(\\ln x) &= \\Delta x/x \\\\\n",
    "\\Delta(\\sin x) &= \\cos x\\ \\Delta x\n",
    "\\end{aligned}\n",
    "$$\n",
    "(where in the last case $\\Delta x$ must be in radians).\n",
    "\n"
   ]
  },
  {
   "cell_type": "markdown",
   "metadata": {},
   "source": [
    "Functions of more than one variable\n",
    "--------------------------------------\n",
    "\n",
    "Often the physics quantity of interest is calculated from more than one measured quantity.  In this case the fundamental rule from statistics is\n",
    "\n",
    "> **The variance of the sum is the sum of the variances** \n",
    "\n",
    "(variance is $\\sigma^2$, so this is saying that $\\left(\\Delta(x+y)\\right)^2 = (\\Delta x)^2 + (\\Delta y)^2$).\n",
    "\n",
    "To apply this to more complicated functions, say $f(x\\pm\\Delta x,y\\pm\\Delta y)$, we first calculate the uncertainty on $f$ due to $\\Delta x$, $\\Delta_x f$ either by calculating $f(x+\\Delta x,y)$ or by\n",
    "$$\n",
    "\\frac{\\Delta_x f}{\\Delta x} \\simeq \\left|\\frac{\\partial f}{\\partial x}\\right|,\n",
    "$$\n",
    "then do the same thing for $\\Delta_y f$, and finally sum the variances:\n",
    "$$\n",
    "(\\Delta f)^2 = (\\Delta_x f)^2 + (\\Delta_y f)^2.\n",
    "$$\n",
    "Note that when calculating $\\Delta_x f$, we leave $y$ at its central value, and similarly for $\\Delta_y f$.  This assumes that $x$ and $y$ are **uncorrelated** &ndash; that is, whether our measured value of $x$ is larger or smaller than the \n",
    "true value does not affect our measured value of $y$ and vice versa.  This is not always true.\n",
    "\n",
    "The code below tests this for the simple case of $x+y$.  The arrays **xdata** and **ydata** contain \"measured values\" drawn from Gaussians with means **xtrue** and **ytrue** and standard deviations **sigx** and **sigy** respectively.  Array **sdata** contains the sum of each $(x,y)$ pair.  We then calculate the mean and standard deviation of each of the three arrays and compare with expectation.  The particularly interesting question is whether the measured standard deviation of **sdata**, **sigsm**, agrees with the calculated value **sigs** ($=\\sqrt{\\sigma_x^2 + \\sigma_y^2}$)."
   ]
  },
  {
   "cell_type": "code",
   "execution_count": 35,
   "metadata": {
    "collapsed": false
   },
   "outputs": [
    {
     "name": "stdout",
     "output_type": "stream",
     "text": [
      "xtrue =  4.50 , ytrue =  3.50 , strue =  8.00\n",
      "sigx  =  0.30 , sigy  =  0.40 , sigs  =  0.50\n",
      "xmean =  4.51 , ymean =  3.49 , smean =  8.00\n",
      "sigxm =  0.28 , sigym =  0.39 , sigsm =  0.48\n"
     ]
    },
    {
     "data": {
      "text/plain": [
       "(array([  2.,   2.,   1.,   5.,   6.,   4.,  19.,  14.,  15.,  22.,  14.,\n",
       "         13.,  24.,  14.,  14.,   7.,   4.,   5.,   6.,   9.]),\n",
       " array([ 6.76579454,  6.8795206 ,  6.99324667,  7.10697273,  7.22069879,\n",
       "         7.33442486,  7.44815092,  7.56187698,  7.67560304,  7.78932911,\n",
       "         7.90305517,  8.01678123,  8.1305073 ,  8.24423336,  8.35795942,\n",
       "         8.47168548,  8.58541155,  8.69913761,  8.81286367,  8.92658974,\n",
       "         9.0403158 ]),\n",
       " <a list of 20 Patch objects>)"
      ]
     },
     "execution_count": 35,
     "metadata": {},
     "output_type": "execute_result"
    },
    {
     "data": {
      "image/png": "[encoded data removed]",
      "text/plain": [
       "<matplotlib.figure.Figure at 0xa92b828>"
      ]
     },
     "metadata": {},
     "output_type": "display_data"
    }
   ],
   "source": [
    "%matplotlib inline\n",
    "\n",
    "import matplotlib.pyplot as plt\n",
    "import numpy as np\n",
    "\n",
    "xtrue = 4.5\n",
    "sigx = 0.3\n",
    "\n",
    "ytrue = 3.5\n",
    "sigy = 0.4\n",
    "\n",
    "strue = xtrue+ytrue\n",
    "sigs = np.sqrt(sigx*sigx + sigy*sigy)\n",
    "\n",
    "xdata=np.random.normal(xtrue,sigx,200)\n",
    "ydata=np.random.normal(ytrue,sigy,200)\n",
    "sdata=np.sum([xdata,ydata],axis=0)\n",
    "\n",
    "xmean=sum(xdata)/len(xdata)\n",
    "ymean=sum(ydata)/len(ydata)\n",
    "smean=sum(sdata)/len(sdata)\n",
    "\n",
    "sumxsq=0\n",
    "sumysq=0\n",
    "sumssq=0\n",
    "\n",
    "for i in range(len(xdata)):\n",
    "    sumxsq=sumxsq+np.power(xdata[i]-xmean,2)\n",
    "    sumysq=sumysq+np.power(ydata[i]-ymean,2)\n",
    "    sumssq=sumssq+np.power(sdata[i]-smean,2)\n",
    "    \n",
    "sigxm = np.sqrt(sumxsq/(len(xdata)-1)) \n",
    "sigym = np.sqrt(sumysq/(len(xdata)-1))\n",
    "sigsm = np.sqrt(sumssq/(len(xdata)-1))\n",
    "\n",
    "print('xtrue = %5.2f'%xtrue,', ytrue = %5.2f'%ytrue,', strue = %5.2f'%strue)\n",
    "print('sigx  = %5.2f'%sigx,', sigy  = %5.2f'%sigy,', sigs  = %5.2f'%sigs)\n",
    "print('xmean = %5.2f'%xmean,', ymean = %5.2f'%ymean,', smean = %5.2f'%smean)\n",
    "print('sigxm = %5.2f'%sigxm,', sigym = %5.2f'%sigym,', sigsm = %5.2f'%sigsm)\n",
    "\n",
    "plt.figure(1)\n",
    "plt.subplot(221)\n",
    "plt.title('xdata')\n",
    "plt.hist(xdata,20)\n",
    "plt.subplot(222)\n",
    "plt.title('ydata')\n",
    "plt.hist(ydata,20)\n",
    "plt.subplot(212)\n",
    "plt.xlabel('sdata')\n",
    "plt.hist(sdata,20)"
   ]
  },
  {
   "cell_type": "markdown",
   "metadata": {},
   "source": [
    "Some standard formulae\n",
    "------------------------\n",
    "\n",
    "You can do any error calculation involving uncorrelated errors from the above rules.  However, it is useful to remember some standard formulae for common functions.  In all cases, it is assumed that the uncertainty in $x$ is $\\sigma_x$, in $y$ $\\sigma_y$, etc.\n",
    "\n",
    "|&nbsp;&nbsp;&nbsp;&nbsp;&nbsp; Function &nbsp;&nbsp;&nbsp;&nbsp;&nbsp; |&nbsp;&nbsp;&nbsp;&nbsp;&nbsp;&nbsp;&nbsp;&nbsp;&nbsp;&nbsp;&nbsp;&nbsp;&nbsp;&nbsp;&nbsp;&nbsp;&nbsp;&nbsp;&nbsp;&nbsp;&nbsp;&nbsp;&nbsp;&nbsp;&nbsp;&nbsp;&nbsp;&nbsp;&nbsp;&nbsp; Error &nbsp;&nbsp;&nbsp;&nbsp;&nbsp;&nbsp;&nbsp;&nbsp;&nbsp;&nbsp; &nbsp;&nbsp;&nbsp;&nbsp;&nbsp;&nbsp;&nbsp;&nbsp;&nbsp;&nbsp;&nbsp;&nbsp;&nbsp;&nbsp;&nbsp;&nbsp;&nbsp;&nbsp;&nbsp;&nbsp;|\n",
    "|:--------:|:-----:|\n",
    "|$f=x+y$   |$\\sigma_f=\\sqrt{\\sigma_x^2+\\sigma_y^2}$|\n",
    "|$f=x-y$   |$\\sigma_f=\\sqrt{\\sigma_x^2+\\sigma_y^2}$|\n",
    "|$f=xy$    |$$\\frac{\\sigma_f}{f}=\\sqrt{\\left(\\frac{\\sigma_x}{x}\\right)^2 + \\left(\\frac{\\sigma_y}{y}\\right)^2}$$|\n",
    "|$f=x/y$   |$$\\frac{\\sigma_f}{f}=\\sqrt{\\left(\\frac{\\sigma_x}{x}\\right)^2 + \\left(\\frac{\\sigma_y}{y}\\right)^2}$$|\n",
    "|$f=x^n$   |$$\\frac{\\sigma_f}{f}=n\\frac{\\sigma_x}{x}$$|\n",
    "|$f=x^n\\times y^m$|$$\\frac{\\sigma_f}{f}=\\sqrt{\\left(n\\frac{\\sigma_x}{x}\\right)^2 + \\left(m\\frac{\\sigma_y}{y}\\right)^2}$$|\n",
    "|$f=x^n \\pm y^m$|$\\sigma_f = \\sqrt{(nx^{n-1}\\sigma_x)^2+(my^{m-1}\\sigma_y)^2}$|\n",
    "|$f=\\ln x$ |$\\sigma_f = \\sigma_x/x$|\n",
    "|$f=e^x$   |$\\sigma_f/f = \\sigma_x$|\n",
    "|$f=\\sin x$|$\\sigma_f = \\sigma_x\\cos x$|\n",
    "|$f=\\cos x$|$\\sigma_f = \\sigma_x \\sin x$|\n",
    "\n",
    "In the case of more complicated functions, you can break them down into simple stages: for example, the uncertainty in $f(x,y)=\\sin\\left(\\sqrt{x^2+y^2}\\right)$ can be calculated by first calculating $\\sigma_{x^2+y^2}$, then $\\sigma_{\\sqrt{x^2+y^2}}$ and finally the required answer, in three steps."
   ]
  }
 ],
 "metadata": {
  "kernelspec": {
   "display_name": "Python 3",
   "language": "python",
   "name": "python3"
  },
  "language_info": {
   "codemirror_mode": {
    "name": "ipython",
    "version": 3
   },
   "file_extension": ".py",
   "mimetype": "text/x-python",
   "name": "python",
   "nbconvert_exporter": "python",
   "pygments_lexer": "ipython3",
   "version": "3.3.5"
  }
 },
 "nbformat": 4,
 "nbformat_minor": 0
}
