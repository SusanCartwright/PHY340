{
 "cells": [
  {
   "cell_type": "markdown",
   "metadata": {},
   "source": [
    "#Fitting Functions, Part 1\n",
    "##Functions and fits\n",
    "\n",
    "A function, say for example _f_(_x_)=_a_<sub>0</sub> + _a_<sub>1</sub>_x_ + _a_<sub>2</sub>_x_<sup>2</sup>, has several numerical ingredients:\n",
    "\n",
    "* the **independent variable(s)** _x_ (or _x,y,..._ for functions of more than one variable), which are inputs to the function;\n",
    "* the **dependent variable** _f_(_x_), which is the output of the function;\n",
    "* the **parameters** _a_<sub>_k_</sub>.\n",
    "\n",
    "When fitting a function to data, we have a set of _N_ data points (_x_<sub>_i_</sub>,_y_<sub>_i_</sub>), where _i_ = 1,...,_N_, and we want to determine the set of parameters _a_<sub>_k_</sub> which best describe the data.  In other words, we want _f_(_x_<sub>_i_</sub>) to be as close as possible to _y_<sub>_i_</sub> for the whole dataset (_x_<sub>_i_</sub>,_y_<sub>_i_</sub>).\n",
    "\n",
    "The simple difference _f_(_x_<sub>_i_</sub>) - _y_<sub>_i_</sub> is not helpful, because a positive difference on one point can be cancelled by a negative difference elsewhere.  For example, take the straight line _y_ = _mx_ + _c_: if we sum the difference _y_<sub>_i_</sub> - _mx_<sub>_i_</sub> - _c_ we get\n",
    "$$\n",
    "\\sum\\limits_{i=1}^{N}(y_i - mx_i -c) = \\sum y_i - m\\sum x_i - Nc = N(\\bar{y} - m\\bar{x} - c),\n",
    "$$\n",
    "which will be zero whenever the values of _m_ and _c_ are such that the average value of _x_ gives the correct average value of _y_, even if all the other values are wildly wrong.  This is obviously not at all satisfactory!  \n",
    "\n",
    "Using the absolute difference, |_y_<sub>_i_</sub> - _mx_<sub>_i_</sub> - _c_|, would avoid this problem, but absolute values are difficult to work with because of the discontinuous change of slope at zero.  The next simplest choice is the square of the difference, \n",
    "(_y_<sub>_i_</sub> - _mx_<sub>_i_</sub> - _c_)<sup>2</sup>.  If we choose _m_ and _c_ so as to minimise \n",
    "$$\n",
    "\\sum\\limits_{i=1}^{N}(y_i-mx_i-c)^2,\n",
    "$$\n",
    "we are performing a **least squares fit**.  Using the language of statistics, we are minimising the variance of _y_ around _f_(_x_), which seems like a very sensible thing to do.\n",
    "\n",
    "##Fitting straight lines, part 1: the unweighted least squares fit\n",
    "\n",
    "The straight line fit for points of equal weight is actually very easy to solve: partially differentiate the above sum with respect to _m_ and _c_ and set to zero, then solve the resulting simultaneous equations (this is done in section 7.3 of [PyMan](http://clouds.eos.ubc.ca/~phil/djpine_python/Book/_build/html/chap7/chap7_funcs.html), for example).  It's deriving the uncertainties on the best fit that is the difficult bit, and is usually glossed over in textbooks!\n",
    "\n",
    "There are various ways of expressing the results: the best one for computation is\n",
    "\n",
    "$$\n",
    "\\begin{aligned}\n",
    "\\hat{m} &= \\frac{\\sum(x_i - \\bar{x})y_i}{\\sum(x_i-\\bar{x})x_i}\\\\\n",
    "\\hat{c} &= \\bar{y} - \\hat{m}\\bar{x}\\\\\n",
    "\\sigma_m^2 &= \\frac{1}{N-2}\\frac{\\sum(y_i-\\hat{m}x_i-\\hat{c})^2}{\\sum(x_i-\\bar{x})x_i}\\\\\n",
    "\\sigma_c^2 &= \\sigma_m^2 \\overline{x^2}\n",
    "\\end{aligned}\n",
    "$$\n",
    "\n",
    "where _m&#770;_  and _c&#770;_ are the best estimates of _m_ and _c_, and barred quantities represent means.  This formulation, which is not the standard one, has the huge advantage of not requiring us to take the difference of large and nearly equal numbers &ndash; a recipe for problems with rounding errors.\n",
    "The factor (_N_ - 2) (rather than _N_) in the definition of _&sigma;_<sub>_m_</sub><sup>2</sup> is caused by our having used up two degrees of freedom in calculating _m&#770;_ and _c&#770;_: essentially, we need two points to define a straight line, so only _N_ - 2 points are left to define the spread of the points around the line.\n",
    "\n",
    "Here is an example of a least-squares fit to a straight line."
   ]
  },
  {
   "cell_type": "code",
   "execution_count": 1,
   "metadata": {
    "collapsed": false
   },
   "outputs": [
    {
     "name": "stdout",
     "output_type": "stream",
     "text": [
      "Input gradient and intercept  0.75 and  0.20\n",
      "Fitted gradient and intercept  0.72 ±  0.04 and  0.37 ±  0.12\n"
     ]
    },
    {
     "data": {
      "text/plain": [
       "<matplotlib.text.Text at 0x67fca58>"
      ]
     },
     "execution_count": 1,
     "metadata": {},
     "output_type": "execute_result"
    },
    {
     "data": {
      "image/png": "[encoded data removed]",
      "text/plain": [
       "<matplotlib.figure.Figure at 0x4021da0>"
      ]
     },
     "metadata": {},
     "output_type": "display_data"
    }
   ],
   "source": [
    "%matplotlib inline\n",
    "\n",
    "import numpy as np\n",
    "import matplotlib.pyplot as plt\n",
    "\n",
    "#define a function to return the gradient and intercept of a straight line with their variances\n",
    "def linest(x,y):\n",
    "    xmean = x.mean()\n",
    "    m = ((x-xmean)*y).sum()/((x-xmean)*x).sum()\n",
    "    c = y.mean()-m*xmean\n",
    "    yfit = m*x + c\n",
    "    varm = (y*y-2*y*yfit+yfit*yfit).sum()/((x-xmean)*x).sum()/(len(x)-2)\n",
    "    varc = varm*(x*x).mean()\n",
    "    return m,c,varm,varc\n",
    "\n",
    "#true properties of our straight line \n",
    "mtrue = 0.75\n",
    "ctrue = 0.20\n",
    "sigytrue = 0.40\n",
    "\n",
    "xmin = -1.0\n",
    "xmax = 6.0\n",
    "nbins = 20\n",
    "\n",
    "x = np.linspace(xmin,xmax,nbins)\n",
    "dy = np.random.normal(ctrue,sigytrue,nbins)  #random numbers normally distributed about ctrue\n",
    "y = mtrue*x + dy                             #y points are scattered around mx + c with error sigytrue\n",
    "\n",
    "mhat,chat,varm,varc = linest(x,y)            #fit these data \n",
    "sigmam = np.sqrt(varm)\n",
    "sigmac = np.sqrt(varc)\n",
    "\n",
    "print('Input gradient and intercept %5.2f'%mtrue,'and %5.2f'%ctrue)\n",
    "print('Fitted gradient and intercept %5.2f'%mhat,\"\\u00b1\",'%5.2f'%sigmam,'and %5.2f'%chat,\"\\u00b1\",'%5.2f'%sigmac)\n",
    "\n",
    "plt.plot(x,y,'bs',x,mhat*x+chat) #plot the data as squares and the fit as a line\n",
    "plt.title('Unweighted least squares fit')"
   ]
  },
  {
   "cell_type": "markdown",
   "metadata": {},
   "source": [
    "Notice that we have not used any measurement errors in the determination of _m&#770;_&plusmn;&sigma;<sub>_m_</sub> and _c&#770;_&plusmn;&sigma;<sub>_c_</sub>.  This is because the least-squares fit is using the scatter of the points to deduce the uncertainty.  Furthermore, it is assuming that every point has the *same* uncertainty: it is an **unweighted least squares fit**.  I have called this function **linest** because this is exactly what the Excel function **linest** does.\n",
    "\n",
    "Also notice that, because the definition of _c&#770;_ includes _m&#770;_, the errors on _c&#770;_ and _m&#770;_ are **correlated**.  If our value of _m&#770;_ goes up, our value of _c&#770;_ necessarily goes down."
   ]
  },
  {
   "cell_type": "markdown",
   "metadata": {},
   "source": [
    "###Using the unweighted least squares fit\n",
    "\n",
    "Before deciding to use an unweighted least squares fit, you should think about the following points.\n",
    "\n",
    "1. *Are my data consistent with a straight line?*  If you ask a function to fit a straight line, it will fit a straight line, whether the data lie on one or not.  \n",
    "2. *Which is my dependent variable?*  The least squares fit minimises the variance of _y_ &ndash; i.e., it assumes that the _x_ values are correct and the _y_ values are randomly scattered.  If both the variables in your data have uncertainties, you should set up the fit so that the quantity with larger errors is _f_(_x_).  For example, the Hubble law of the expanding universe is usually quoted as _v_ = _Hd_, where _v_ is the Doppler velocity and _d_ is the distance.  In practice, however, _v_ is usually well measured whereas _d_ has large errors, so we should really fit _d_ = _v/H_.\n",
    "3. *Is an **unweighted** fit justified?*  In minimising (_y_<sub>_i_</sub> - _mx_<sub>_i_</sub> - _c_)<sup>2</sup>, we are very sensitive to occasional points a long way off the true line.  This means that any badly measured points with large error bars are likely to pull the fit a long way from the proper value.  If your measurements have estimated uncertainties that are not the same from point to point, you need a **weighted fit**, see [next notebook](fits2.ipynb).\n",
    "\n",
    "The code below shows examples of misusing a straight line fit and of the consequences of a single bad point.  "
   ]
  },
  {
   "cell_type": "code",
   "execution_count": 16,
   "metadata": {
    "collapsed": false
   },
   "outputs": [
    {
     "name": "stdout",
     "output_type": "stream",
     "text": [
      "Fitted gradient and intercept  3.01 ±  0.27 and -0.56 ±  0.74\n",
      "Input gradient and intercept  0.75 and  0.20\n",
      "Fitted gradient and intercept  0.59 ±  0.06 and  0.79 ±  0.16\n"
     ]
    },
    {
     "data": {
      "text/plain": [
       "<matplotlib.text.Text at 0x7e4be80>"
      ]
     },
     "execution_count": 16,
     "metadata": {},
     "output_type": "execute_result"
    },
    {
     "data": {
      "image/png": "[encoded data removed]",
      "text/plain": [
       "<matplotlib.figure.Figure at 0x6eb7438>"
      ]
     },
     "metadata": {},
     "output_type": "display_data"
    }
   ],
   "source": [
    "%matplotlib inline\n",
    "\n",
    "import numpy as np\n",
    "import matplotlib.pyplot as plt\n",
    "\n",
    "#define a function to return the gradient and intercept of a straight line with their variances\n",
    "def linest(x,y):\n",
    "    xmean = x.mean()\n",
    "    m = ((x-xmean)*y).sum()/((x-xmean)*x).sum()\n",
    "    c = y.mean()-m*xmean\n",
    "    yfit = m*x + c\n",
    "    varm = (y*y-2*y*yfit+yfit*yfit).sum()/((x-xmean)*x).sum()/(len(x)-2)\n",
    "    varc = varm*(x*x).mean()\n",
    "    return m,c,varm,varc\n",
    "\n",
    "#true properties of our straight line \n",
    "mtrue = 0.75\n",
    "ctrue = 0.20\n",
    "sigytrue = 0.30\n",
    "\n",
    "xmin = -1.0\n",
    "xmax = 5.0\n",
    "nbins = 20\n",
    "\n",
    "x = np.linspace(xmin,xmax,nbins)\n",
    "dy = np.random.normal(0.0,sigytrue,nbins)  #random numbers normally distributed about ctrue\n",
    "y = mtrue*x*x + dy                         #y points are actually a quadratic\n",
    "dz = np.random.normal(ctrue,sigytrue,nbins)\n",
    "z = mtrue*x + dz\n",
    "z[2] = z[2] + 8*sigytrue #introduce a bad point\n",
    "\n",
    "mhat,chat,varm,varc = linest(x,y)            #fit xy data\n",
    "sigmam = np.sqrt(varm)\n",
    "sigmac = np.sqrt(varc)\n",
    "\n",
    "print('Fitted gradient and intercept %5.2f'%mhat,\"\\u00b1\",'%5.2f'%sigmam,'and %5.2f'%chat,\"\\u00b1\",'%5.2f'%sigmac)\n",
    "\n",
    "m1,c1,varm1,varc1 = linest(x,z)             #fit xz data\n",
    "sigm1 = np.sqrt(varm1)\n",
    "sigc1 = np.sqrt(varc1)\n",
    "\n",
    "print('Input gradient and intercept %5.2f'%mtrue,'and %5.2f'%ctrue)\n",
    "print('Fitted gradient and intercept %5.2f'%m1,\"\\u00b1\",'%5.2f'%sigm1,'and %5.2f'%c1,\"\\u00b1\",'%5.2f'%sigc1)\n",
    "\n",
    "plt.subplot(121)\n",
    "plt.plot(x,y,'bs',x,mhat*x+chat) #plot the data as squares and the fit as a line\n",
    "plt.title('Misuse of a least squares fit')\n",
    "\n",
    "plt.subplot(122)\n",
    "plt.plot(x,z,'bs',x,m1*x+c1) #plot the data as squares and the fit as a line\n",
    "plt.title('Effect of a bad point')"
   ]
  },
  {
   "cell_type": "markdown",
   "metadata": {},
   "source": [
    "##Summary\n",
    "\n",
    "The unweighted least squares fit to a straight line is the simplest and most familiar example of fitting a function to data.  Before using this fit, you should ensure that\n",
    "\n",
    "* your data appear to be well described by a straight line;\n",
    "* all your data points have comparable error bars;\n",
    "* you have set up your fit so that the coordinate with the (larger) error bars is the dependent (*y*) variable.\n",
    "\n",
    "If one or more of the above points is not true, you will need a more complicated fitting procedure, as described in the [next section](fits2.ipynb)."
   ]
  }
 ],
 "metadata": {
  "kernelspec": {
   "display_name": "Python 3",
   "language": "python",
   "name": "python3"
  },
  "language_info": {
   "codemirror_mode": {
    "name": "ipython",
    "version": 3
   },
   "file_extension": ".py",
   "mimetype": "text/x-python",
   "name": "python",
   "nbconvert_exporter": "python",
   "pygments_lexer": "ipython3",
   "version": "3.3.5"
  }
 },
 "nbformat": 4,
 "nbformat_minor": 0
}
